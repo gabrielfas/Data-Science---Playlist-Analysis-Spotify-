{
 "cells": [
  {
   "cell_type": "markdown",
   "metadata": {
    "colab_type": "text",
    "id": "view-in-github"
   },
   "source": [
    "<a href=\"https://colab.research.google.com/github/gabrielfas/Spotify-Playlist-Analysis/blob/master/Spotify_Data_Science.ipynb\" target=\"_parent\"><img src=\"https://colab.research.google.com/assets/colab-badge.svg\" alt=\"Open In Colab\"/></a>"
   ]
  },
  {
   "cell_type": "code",
   "execution_count": 1,
   "metadata": {},
   "outputs": [],
   "source": [
    "import warnings\n",
    "warnings.filterwarnings('ignore')\n",
    "\n",
    "# Altair plots render by default in JupyterLab and nteract\n",
    "\n",
    "# Uncomment/run this line to enable Altair in the classic notebook (not in JupyterLab)\n",
    "# alt.renderers.enable('notebook')\n",
    "\n",
    "# Uncomment/run this line to enable Altair in Colab\n",
    "# alt.renderers.enable('colab')"
   ]
  },
  {
   "cell_type": "code",
   "execution_count": 2,
   "metadata": {
    "colab": {},
    "colab_type": "code",
    "id": "afiG0Ge6uLUy"
   },
   "outputs": [],
   "source": [
    "def get_genres(artists_id, spfy):\n",
    "    response = spfy.artist(artists_id)\n",
    "    if len(response['genres']) == 0:\n",
    "        return []\n",
    "    return response['genres']"
   ]
  },
  {
   "cell_type": "code",
   "execution_count": 3,
   "metadata": {
    "colab": {},
    "colab_type": "code",
    "id": "ljphOXcEu7QD"
   },
   "outputs": [],
   "source": [
    "import pandas as pd\n",
    "import altair as alt\n",
    "import seaborn as sns\n",
    "import matplotlib.pyplot as plt\n",
    "import interfacespfy as isp"
   ]
  },
  {
   "cell_type": "code",
   "execution_count": 4,
   "metadata": {
    "colab": {},
    "colab_type": "code",
    "id": "UBFzzSMdu-sQ"
   },
   "outputs": [],
   "source": [
    "spfy = isp.login_user('12144777067')"
   ]
  },
  {
   "cell_type": "code",
   "execution_count": 5,
   "metadata": {
    "colab": {
     "base_uri": "https://localhost:8080/",
     "height": 34
    },
    "colab_type": "code",
    "id": "R9zo0InDvgC8",
    "outputId": "ce89d18e-6745-4dc9-d52f-d1033e9dd5fa"
   },
   "outputs": [
    {
     "data": {
      "text/html": [
       "<div>\n",
       "<style scoped>\n",
       "    .dataframe tbody tr th:only-of-type {\n",
       "        vertical-align: middle;\n",
       "    }\n",
       "\n",
       "    .dataframe tbody tr th {\n",
       "        vertical-align: top;\n",
       "    }\n",
       "\n",
       "    .dataframe thead th {\n",
       "        text-align: right;\n",
       "    }\n",
       "</style>\n",
       "<table border=\"1\" class=\"dataframe\">\n",
       "  <thead>\n",
       "    <tr style=\"text-align: right;\">\n",
       "      <th></th>\n",
       "      <th>album</th>\n",
       "      <th>album_id</th>\n",
       "      <th>artist</th>\n",
       "      <th>artist_id</th>\n",
       "      <th>duration_ms</th>\n",
       "      <th>id</th>\n",
       "      <th>name</th>\n",
       "      <th>popularity</th>\n",
       "    </tr>\n",
       "  </thead>\n",
       "  <tbody>\n",
       "    <tr>\n",
       "      <th>0</th>\n",
       "      <td>Beautiful People Will Ruin Your Life (Extended...</td>\n",
       "      <td>7CPPcbdyAhAF1PEWCnm4DY</td>\n",
       "      <td>The Wombats</td>\n",
       "      <td>0Ya43ZKWHTKkAbkoJJkwIB</td>\n",
       "      <td>214432</td>\n",
       "      <td>08JTB5hpXPCVPGJzic8E9e</td>\n",
       "      <td>Bee-Sting</td>\n",
       "      <td>42</td>\n",
       "    </tr>\n",
       "    <tr>\n",
       "      <th>1</th>\n",
       "      <td>Proudly Present....A Guide To Love, Loss &amp; Des...</td>\n",
       "      <td>75l5Bqvc0BH45UhJrS04Xj</td>\n",
       "      <td>The Wombats</td>\n",
       "      <td>0Ya43ZKWHTKkAbkoJJkwIB</td>\n",
       "      <td>191293</td>\n",
       "      <td>7v9Ne4758aGFfFc5avh89h</td>\n",
       "      <td>Let's Dance To Joy Division</td>\n",
       "      <td>65</td>\n",
       "    </tr>\n",
       "    <tr>\n",
       "      <th>2</th>\n",
       "      <td>Beautiful People Will Ruin Your Life</td>\n",
       "      <td>4kUbTSoTsbKP5MRdYMDBx1</td>\n",
       "      <td>The Wombats</td>\n",
       "      <td>0Ya43ZKWHTKkAbkoJJkwIB</td>\n",
       "      <td>219481</td>\n",
       "      <td>4w9TBRGhvbhiLQB8jVCusl</td>\n",
       "      <td>Cheetah Tongue</td>\n",
       "      <td>63</td>\n",
       "    </tr>\n",
       "    <tr>\n",
       "      <th>3</th>\n",
       "      <td>Beautiful People Will Ruin Your Life</td>\n",
       "      <td>4kUbTSoTsbKP5MRdYMDBx1</td>\n",
       "      <td>The Wombats</td>\n",
       "      <td>0Ya43ZKWHTKkAbkoJJkwIB</td>\n",
       "      <td>207679</td>\n",
       "      <td>11IJA30efHAJLO3qroPh5L</td>\n",
       "      <td>Turn</td>\n",
       "      <td>63</td>\n",
       "    </tr>\n",
       "    <tr>\n",
       "      <th>4</th>\n",
       "      <td>Proudly Present....A Guide To Love, Loss &amp; Des...</td>\n",
       "      <td>75l5Bqvc0BH45UhJrS04Xj</td>\n",
       "      <td>The Wombats</td>\n",
       "      <td>0Ya43ZKWHTKkAbkoJJkwIB</td>\n",
       "      <td>210560</td>\n",
       "      <td>7GvkOFkNsM6Exnkyqeajqm</td>\n",
       "      <td>Moving To New York</td>\n",
       "      <td>64</td>\n",
       "    </tr>\n",
       "  </tbody>\n",
       "</table>\n",
       "</div>"
      ],
      "text/plain": [
       "                                               album                album_id  \\\n",
       "0  Beautiful People Will Ruin Your Life (Extended...  7CPPcbdyAhAF1PEWCnm4DY   \n",
       "1  Proudly Present....A Guide To Love, Loss & Des...  75l5Bqvc0BH45UhJrS04Xj   \n",
       "2               Beautiful People Will Ruin Your Life  4kUbTSoTsbKP5MRdYMDBx1   \n",
       "3               Beautiful People Will Ruin Your Life  4kUbTSoTsbKP5MRdYMDBx1   \n",
       "4  Proudly Present....A Guide To Love, Loss & Des...  75l5Bqvc0BH45UhJrS04Xj   \n",
       "\n",
       "        artist               artist_id  duration_ms                      id  \\\n",
       "0  The Wombats  0Ya43ZKWHTKkAbkoJJkwIB       214432  08JTB5hpXPCVPGJzic8E9e   \n",
       "1  The Wombats  0Ya43ZKWHTKkAbkoJJkwIB       191293  7v9Ne4758aGFfFc5avh89h   \n",
       "2  The Wombats  0Ya43ZKWHTKkAbkoJJkwIB       219481  4w9TBRGhvbhiLQB8jVCusl   \n",
       "3  The Wombats  0Ya43ZKWHTKkAbkoJJkwIB       207679  11IJA30efHAJLO3qroPh5L   \n",
       "4  The Wombats  0Ya43ZKWHTKkAbkoJJkwIB       210560  7GvkOFkNsM6Exnkyqeajqm   \n",
       "\n",
       "                          name  popularity  \n",
       "0                    Bee-Sting          42  \n",
       "1  Let's Dance To Joy Division          65  \n",
       "2               Cheetah Tongue          63  \n",
       "3                         Turn          63  \n",
       "4           Moving To New York          64  "
      ]
     },
     "execution_count": 5,
     "metadata": {},
     "output_type": "execute_result"
    }
   ],
   "source": [
    "musics = isp.get_favorite_songs(spfy)\n",
    "pdmusics = pd.DataFrame(musics)\n",
    "#pdmusics.set_index(['id'], inplace=True)\n",
    "pdmusics.head()"
   ]
  },
  {
   "cell_type": "code",
   "execution_count": 6,
   "metadata": {
    "colab": {
     "base_uri": "https://localhost:8080/",
     "height": 323
    },
    "colab_type": "code",
    "id": "GEL5ZWEYzdAC",
    "outputId": "db9fe872-6687-4169-fbef-b81380f44d49"
   },
   "outputs": [
    {
     "data": {
      "text/html": [
       "<div>\n",
       "<style scoped>\n",
       "    .dataframe tbody tr th:only-of-type {\n",
       "        vertical-align: middle;\n",
       "    }\n",
       "\n",
       "    .dataframe tbody tr th {\n",
       "        vertical-align: top;\n",
       "    }\n",
       "\n",
       "    .dataframe thead th {\n",
       "        text-align: right;\n",
       "    }\n",
       "</style>\n",
       "<table border=\"1\" class=\"dataframe\">\n",
       "  <thead>\n",
       "    <tr style=\"text-align: right;\">\n",
       "      <th></th>\n",
       "      <th>album</th>\n",
       "      <th>album_id</th>\n",
       "      <th>artist</th>\n",
       "      <th>artist_id</th>\n",
       "      <th>duration_ms</th>\n",
       "      <th>id</th>\n",
       "      <th>name</th>\n",
       "      <th>popularity</th>\n",
       "    </tr>\n",
       "  </thead>\n",
       "  <tbody>\n",
       "    <tr>\n",
       "      <th>233</th>\n",
       "      <td>To Pimp A Butterfly</td>\n",
       "      <td>5uP9oyMK5lpzbB7K6UeT3X</td>\n",
       "      <td>Kendrick Lamar</td>\n",
       "      <td>2YZyLoL8N0Wb9xBt1NhZWg</td>\n",
       "      <td>287360</td>\n",
       "      <td>77hlBnevpj8cbiH7sc0Iro</td>\n",
       "      <td>Wesley's Theory</td>\n",
       "      <td>7</td>\n",
       "    </tr>\n",
       "    <tr>\n",
       "      <th>64</th>\n",
       "      <td>America Give Up</td>\n",
       "      <td>1YPOC8uC8KUG0jspZm6kQ2</td>\n",
       "      <td>Howler</td>\n",
       "      <td>7nERL8M0rrFRnMuC2vbsUg</td>\n",
       "      <td>222573</td>\n",
       "      <td>1YM7fNEGrM1QSuRFHmIdQG</td>\n",
       "      <td>Back of Your Neck</td>\n",
       "      <td>31</td>\n",
       "    </tr>\n",
       "    <tr>\n",
       "      <th>292</th>\n",
       "      <td>Southpaw (Music From And Inspired By The Motio...</td>\n",
       "      <td>5pqnv0aiizL6F4mmVkniKM</td>\n",
       "      <td>Bad Meets Evil</td>\n",
       "      <td>77IURH5NC56Jn09QHi76is</td>\n",
       "      <td>372679</td>\n",
       "      <td>64xJyqmFXQ2smziK6MQZXP</td>\n",
       "      <td>All I Think About</td>\n",
       "      <td>3</td>\n",
       "    </tr>\n",
       "    <tr>\n",
       "      <th>230</th>\n",
       "      <td>To Pimp A Butterfly</td>\n",
       "      <td>5uP9oyMK5lpzbB7K6UeT3X</td>\n",
       "      <td>Kendrick Lamar</td>\n",
       "      <td>2YZyLoL8N0Wb9xBt1NhZWg</td>\n",
       "      <td>263360</td>\n",
       "      <td>5IVMqYdpCjoyaRkNLYlFqN</td>\n",
       "      <td>Complexion (A Zulu Love)</td>\n",
       "      <td>5</td>\n",
       "    </tr>\n",
       "    <tr>\n",
       "      <th>110</th>\n",
       "      <td>To Pimp A Butterfly</td>\n",
       "      <td>5uP9oyMK5lpzbB7K6UeT3X</td>\n",
       "      <td>Kendrick Lamar</td>\n",
       "      <td>2YZyLoL8N0Wb9xBt1NhZWg</td>\n",
       "      <td>283120</td>\n",
       "      <td>4c7obYnJE084ZBtxnHIRVt</td>\n",
       "      <td>Momma</td>\n",
       "      <td>5</td>\n",
       "    </tr>\n",
       "  </tbody>\n",
       "</table>\n",
       "</div>"
      ],
      "text/plain": [
       "                                                 album  \\\n",
       "233                                To Pimp A Butterfly   \n",
       "64                                     America Give Up   \n",
       "292  Southpaw (Music From And Inspired By The Motio...   \n",
       "230                                To Pimp A Butterfly   \n",
       "110                                To Pimp A Butterfly   \n",
       "\n",
       "                   album_id          artist               artist_id  \\\n",
       "233  5uP9oyMK5lpzbB7K6UeT3X  Kendrick Lamar  2YZyLoL8N0Wb9xBt1NhZWg   \n",
       "64   1YPOC8uC8KUG0jspZm6kQ2          Howler  7nERL8M0rrFRnMuC2vbsUg   \n",
       "292  5pqnv0aiizL6F4mmVkniKM  Bad Meets Evil  77IURH5NC56Jn09QHi76is   \n",
       "230  5uP9oyMK5lpzbB7K6UeT3X  Kendrick Lamar  2YZyLoL8N0Wb9xBt1NhZWg   \n",
       "110  5uP9oyMK5lpzbB7K6UeT3X  Kendrick Lamar  2YZyLoL8N0Wb9xBt1NhZWg   \n",
       "\n",
       "     duration_ms                      id                      name  popularity  \n",
       "233       287360  77hlBnevpj8cbiH7sc0Iro           Wesley's Theory           7  \n",
       "64        222573  1YM7fNEGrM1QSuRFHmIdQG         Back of Your Neck          31  \n",
       "292       372679  64xJyqmFXQ2smziK6MQZXP         All I Think About           3  \n",
       "230       263360  5IVMqYdpCjoyaRkNLYlFqN  Complexion (A Zulu Love)           5  \n",
       "110       283120  4c7obYnJE084ZBtxnHIRVt                     Momma           5  "
      ]
     },
     "execution_count": 6,
     "metadata": {},
     "output_type": "execute_result"
    }
   ],
   "source": [
    "mix_musics = pdmusics.sample(frac=1)\n",
    "mix_musics.head()"
   ]
  },
  {
   "cell_type": "code",
   "execution_count": 7,
   "metadata": {
    "colab": {
     "base_uri": "https://localhost:8080/",
     "height": 34
    },
    "colab_type": "code",
    "id": "CWLtJPq25iZQ",
    "outputId": "6cf5c854-2c5c-4713-dc28-b1e20ce0c102"
   },
   "outputs": [
    {
     "data": {
      "text/plain": [
       "(500, 8)"
      ]
     },
     "execution_count": 7,
     "metadata": {},
     "output_type": "execute_result"
    }
   ],
   "source": [
    "sel_music = mix_musics[:500]\n",
    "sel_music.shape"
   ]
  },
  {
   "cell_type": "code",
   "execution_count": null,
   "metadata": {
    "colab": {
     "base_uri": "https://localhost:8080/",
     "height": 238
    },
    "colab_type": "code",
    "id": "MiRG5jv2zfyt",
    "outputId": "6b9c15bb-be4e-4f42-d580-5c9bddcc8a97"
   },
   "outputs": [
    {
     "name": "stdout",
     "output_type": "stream",
     "text": [
      "retrying ...1secs\n",
      "retrying ...1secs\n",
      "retrying ...1secs\n"
     ]
    }
   ],
   "source": [
    "sel_music['genres'] = sel_music.artist_id.apply(get_genres, args=(spfy,))\n",
    "sel_music.shape"
   ]
  },
  {
   "cell_type": "code",
   "execution_count": null,
   "metadata": {
    "colab": {
     "base_uri": "https://localhost:8080/",
     "height": 204
    },
    "colab_type": "code",
    "id": "hxQAjZqKzhvE",
    "outputId": "a94a05f2-c10d-4a0a-c37a-0d4a6b731961"
   },
   "outputs": [],
   "source": [
    "genres = []\n",
    "for generos in sel_music['genres']:\n",
    "    for genero in generos:\n",
    "        genres.append(genero)\n",
    "        \n",
    "pdgenres = pd.DataFrame(genres, columns=['genres'])\n",
    "pdgenres.head()"
   ]
  },
  {
   "cell_type": "code",
   "execution_count": null,
   "metadata": {
    "colab": {
     "base_uri": "https://localhost:8080/",
     "height": 776
    },
    "colab_type": "code",
    "id": "iVb336FZzjlk",
    "outputId": "10b17867-9055-4711-967b-5a3782a1f0bc"
   },
   "outputs": [],
   "source": [
    "qtd_generos = pdgenres.genres.value_counts(ascending=False).head(10)\n",
    "print(qtd_generos)\n",
    "qtd_generos.plot(kind='pie', figsize=(10,10),autopct='%1.1f%%')\n",
    "plt.title('Top 10 generos mais ouvidos')\n",
    "plt.show()"
   ]
  },
  {
   "cell_type": "code",
   "execution_count": null,
   "metadata": {
    "colab": {
     "base_uri": "https://localhost:8080/",
     "height": 878
    },
    "colab_type": "code",
    "id": "IRnn5XTpzm9S",
    "outputId": "73463574-e46c-4ab5-dc21-b6863088ce45"
   },
   "outputs": [],
   "source": [
    "top_artists = pdmusics.artist.value_counts().head(15)\n",
    "print(top_artists)\n",
    "top_artists.plot(kind='barh', figsize=(10,10))\n",
    "plt.title('Top 15 Artistas com mais músicas')\n",
    "plt.show()"
   ]
  },
  {
   "cell_type": "code",
   "execution_count": null,
   "metadata": {
    "colab": {
     "base_uri": "https://localhost:8080/",
     "height": 454
    },
    "colab_type": "code",
    "id": "JacYRa30zprd",
    "outputId": "ac9eec41-e70d-4575-cf32-3d5649d3c826"
   },
   "outputs": [],
   "source": [
    "pop_artists = pdmusics.groupby('artist').popularity.mean().sort_values(ascending=False)\n",
    "pop_artists.head(15)\n",
    "\n",
    "sns.set(style=\"whitegrid\")\n",
    "\n",
    "plt.subplot(1,2,1)\n",
    "sns.violinplot(y=pop_artists)\n",
    "plt.title('Distribuição da popularidade de artistas')\n",
    "plt.xlabel('Artistas')\n",
    "plt.ylabel('Popularidade')\n",
    "\n",
    "plt.subplot(1,2,2)\n",
    "sns.violinplot(y='popularity', data=pdmusics, color='red', saturation=0.6)\n",
    "plt.title('Distribuição da popularidade de musicas')\n",
    "plt.xlabel('Musicas')\n",
    "plt.ylabel('Popularidade')\n",
    "\n",
    "plt.show()"
   ]
  },
  {
   "cell_type": "code",
   "execution_count": null,
   "metadata": {
    "colab": {
     "base_uri": "https://localhost:8080/",
     "height": 51
    },
    "colab_type": "code",
    "id": "KiDXysA1vt4p",
    "outputId": "a5fa677b-7474-4288-bfa6-033d2fb8e3e1"
   },
   "outputs": [],
   "source": [
    "mlist = isp.get_user_playlists(spfy, '12144777067', features=True)\n",
    "namelist = isp.get_user_playlists(spfy, '12144777067')"
   ]
  },
  {
   "cell_type": "code",
   "execution_count": null,
   "metadata": {
    "colab": {
     "base_uri": "https://localhost:8080/",
     "height": 357
    },
    "colab_type": "code",
    "id": "Z1BIHdfbv3NH",
    "outputId": "67316124-45b0-4ada-aecf-d0876bcf1d9c"
   },
   "outputs": [],
   "source": [
    "musics = []\n",
    "for playlist, tracks in namelist:\n",
    "    for track in tracks:\n",
    "        musics.append(track)\n",
    "        \n",
    "result = pd.DataFrame(mlist)\n",
    "namedata = pd.DataFrame(musics)\n",
    "\n",
    "alldata = pd.merge(result, namedata, how='left', on='id').drop_duplicates(subset='id')\n",
    "alldata.info(10)"
   ]
  },
  {
   "cell_type": "code",
   "execution_count": null,
   "metadata": {
    "colab": {},
    "colab_type": "code",
    "id": "-ZyiDMgQh5Pa"
   },
   "outputs": [],
   "source": [
    "alldata.to_csv('gabriel_playlists.csv')\n",
    "files.download('gabriel_playlists.csv')"
   ]
  },
  {
   "cell_type": "code",
   "execution_count": null,
   "metadata": {
    "colab": {
     "base_uri": "https://localhost:8080/",
     "height": 357
    },
    "colab_type": "code",
    "id": "p79ZihjaRNpk",
    "outputId": "440ec2c3-968d-46d0-cf67-9341d4de4df7"
   },
   "outputs": [],
   "source": [
    "alldata = alldata.sample(frac=1)\n",
    "alldata = alldata[:500]\n",
    "alldata.info()"
   ]
  },
  {
   "cell_type": "code",
   "execution_count": null,
   "metadata": {
    "colab": {
     "base_uri": "https://localhost:8080/",
     "height": 444
    },
    "colab_type": "code",
    "id": "IGGbcY0XUHca",
    "outputId": "755ac322-4e1b-429d-b1be-c7840d046501"
   },
   "outputs": [],
   "source": [
    "sns.heatmap(alldata.corr(), cmap='Blues')\n",
    "plt.title('Correlações entre colunas')"
   ]
  },
  {
   "cell_type": "code",
   "execution_count": null,
   "metadata": {},
   "outputs": [],
   "source": [
    "from pandas.tools.plotting import scatter_matrix\n",
    "test = alldata[['popularity', 'valence', 'acousticness', 'danceability', 'energy', 'instrumentalness']]\n",
    "scatter_matrix(test, alpha=1, figsize=(23,23))"
   ]
  },
  {
   "cell_type": "code",
   "execution_count": null,
   "metadata": {
    "colab": {
     "base_uri": "https://localhost:8080/",
     "height": 389
    },
    "colab_type": "code",
    "id": "XGIXYLkYv8SF",
    "outputId": "9d95b2ec-6eb7-4873-c5bf-17d18bda35ed"
   },
   "outputs": [],
   "source": [
    "alt.Chart(alldata).mark_point().encode(\n",
    "    x='danceability',\n",
    "    y='valence',\n",
    "    tooltip='name',\n",
    ")"
   ]
  }
 ],
 "metadata": {
  "colab": {
   "include_colab_link": true,
   "name": "Spotify - Data Science.ipynb",
   "provenance": [],
   "version": "0.3.2"
  },
  "kernelspec": {
   "display_name": "Python 3",
   "language": "python",
   "name": "python3"
  },
  "language_info": {
   "codemirror_mode": {
    "name": "ipython",
    "version": 3
   },
   "file_extension": ".py",
   "mimetype": "text/x-python",
   "name": "python",
   "nbconvert_exporter": "python",
   "pygments_lexer": "ipython3",
   "version": "3.6.5"
  }
 },
 "nbformat": 4,
 "nbformat_minor": 2
}
